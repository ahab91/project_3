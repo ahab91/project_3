{
 "cells": [
  {
   "cell_type": "markdown",
   "id": "752c745a",
   "metadata": {},
   "source": [
    "# Alternative Fuel Stations"
   ]
  },
  {
   "cell_type": "code",
   "execution_count": 11,
   "id": "1ec85bb6",
   "metadata": {},
   "outputs": [],
   "source": [
    "import requests\n",
    "import pandas as pd\n",
    "from config import api_key\n",
    "\n",
    "# Construct the API URL\n",
    "url = f\"https://developer.nrel.gov/api/alt-fuel-stations/v1.json?api_key={api_key}\"\n",
    "\n",
    "# Make the API request\n",
    "response = requests.get(url)\n",
    "\n",
    "# Check for successful response\n",
    "if response.status_code == 200:\n",
    "    try:\n",
    "        # Parse the JSON response\n",
    "        data = response.json()\n",
    "        \n",
    "        # Extract fuel stations data\n",
    "        fuel_stations = data[\"fuel_stations\"]\n",
    "        \n",
    "        # Define columns to keep\n",
    "        columns_to_keep = [\n",
    "            \"id\", \"fuel_type_code\", \"station_name\", \"street_address\", \n",
    "            \"city\", \"state\", \"zip\", \"country\", \"status_code\", \"expected_date\", \n",
    "            \"access_code\", \"owner_type_code\", \"federal_agency\", \n",
    "            \"ev_level1_evse_num\", \"ev_level2_evse_num\", \"ev_dc_fast_num\", \n",
    "            \"ev_other_evse\", \"ev_connector_types\", \"ev_network\", \"ev_pricing\", \n",
    "            \"ev_renewable_source\", \"latitude\", \"longitude\", \"open_date\", \n",
    "            \"date_last_confirmed\", \"facility_type\", \"restricted_access\"\n",
    "        ]\n",
    "        \n",
    "        # Create a DataFrame with selected columns\n",
    "        df = pd.DataFrame(fuel_stations)[columns_to_keep]\n",
    "        \n",
    "    except json.JSONDecodeError as e:\n",
    "        print(\"Error decoding JSON:\", e)\n",
    "else:\n",
    "    print(\"API request failed with status code:\", response.status_code)"
   ]
  },
  {
   "cell_type": "code",
   "execution_count": 12,
   "id": "7b4295af",
   "metadata": {},
   "outputs": [
    {
     "data": {
      "text/html": [
       "<div>\n",
       "<style scoped>\n",
       "    .dataframe tbody tr th:only-of-type {\n",
       "        vertical-align: middle;\n",
       "    }\n",
       "\n",
       "    .dataframe tbody tr th {\n",
       "        vertical-align: top;\n",
       "    }\n",
       "\n",
       "    .dataframe thead th {\n",
       "        text-align: right;\n",
       "    }\n",
       "</style>\n",
       "<table border=\"1\" class=\"dataframe\">\n",
       "  <thead>\n",
       "    <tr style=\"text-align: right;\">\n",
       "      <th></th>\n",
       "      <th>id</th>\n",
       "      <th>fuel_type_code</th>\n",
       "      <th>station_name</th>\n",
       "      <th>street_address</th>\n",
       "      <th>city</th>\n",
       "      <th>state</th>\n",
       "      <th>zip</th>\n",
       "      <th>country</th>\n",
       "      <th>status_code</th>\n",
       "      <th>expected_date</th>\n",
       "      <th>...</th>\n",
       "      <th>ev_connector_types</th>\n",
       "      <th>ev_network</th>\n",
       "      <th>ev_pricing</th>\n",
       "      <th>ev_renewable_source</th>\n",
       "      <th>latitude</th>\n",
       "      <th>longitude</th>\n",
       "      <th>open_date</th>\n",
       "      <th>date_last_confirmed</th>\n",
       "      <th>facility_type</th>\n",
       "      <th>restricted_access</th>\n",
       "    </tr>\n",
       "  </thead>\n",
       "  <tbody>\n",
       "    <tr>\n",
       "      <th>0</th>\n",
       "      <td>17</td>\n",
       "      <td>CNG</td>\n",
       "      <td>Spire - Montgomery Operations Center</td>\n",
       "      <td>2951 Chestnut St</td>\n",
       "      <td>Montgomery</td>\n",
       "      <td>AL</td>\n",
       "      <td>36107</td>\n",
       "      <td>US</td>\n",
       "      <td>E</td>\n",
       "      <td>None</td>\n",
       "      <td>...</td>\n",
       "      <td>None</td>\n",
       "      <td>None</td>\n",
       "      <td>None</td>\n",
       "      <td>None</td>\n",
       "      <td>32.367916</td>\n",
       "      <td>-86.267021</td>\n",
       "      <td>2010-12-01</td>\n",
       "      <td>2023-04-06</td>\n",
       "      <td>STANDALONE_STATION</td>\n",
       "      <td>None</td>\n",
       "    </tr>\n",
       "    <tr>\n",
       "      <th>1</th>\n",
       "      <td>45</td>\n",
       "      <td>CNG</td>\n",
       "      <td>Metropolitan Atlanta Rapid Transit Authority</td>\n",
       "      <td>2424 Piedmont Rd NE</td>\n",
       "      <td>Atlanta</td>\n",
       "      <td>GA</td>\n",
       "      <td>30324</td>\n",
       "      <td>US</td>\n",
       "      <td>E</td>\n",
       "      <td>None</td>\n",
       "      <td>...</td>\n",
       "      <td>None</td>\n",
       "      <td>None</td>\n",
       "      <td>None</td>\n",
       "      <td>None</td>\n",
       "      <td>33.821911</td>\n",
       "      <td>-84.367461</td>\n",
       "      <td>1996-12-15</td>\n",
       "      <td>2023-01-10</td>\n",
       "      <td>FLEET_GARAGE</td>\n",
       "      <td>None</td>\n",
       "    </tr>\n",
       "    <tr>\n",
       "      <th>2</th>\n",
       "      <td>64</td>\n",
       "      <td>CNG</td>\n",
       "      <td>United Parcel Service</td>\n",
       "      <td>270 Marvin Miller Dr</td>\n",
       "      <td>Atlanta</td>\n",
       "      <td>GA</td>\n",
       "      <td>30336</td>\n",
       "      <td>US</td>\n",
       "      <td>E</td>\n",
       "      <td>None</td>\n",
       "      <td>...</td>\n",
       "      <td>None</td>\n",
       "      <td>None</td>\n",
       "      <td>None</td>\n",
       "      <td>None</td>\n",
       "      <td>33.760256</td>\n",
       "      <td>-84.543822</td>\n",
       "      <td>1997-01-01</td>\n",
       "      <td>2022-06-14</td>\n",
       "      <td>STANDALONE_STATION</td>\n",
       "      <td>None</td>\n",
       "    </tr>\n",
       "    <tr>\n",
       "      <th>3</th>\n",
       "      <td>73</td>\n",
       "      <td>CNG</td>\n",
       "      <td>Arkansas Oklahoma Gas Corp</td>\n",
       "      <td>2100 S Waldron Rd</td>\n",
       "      <td>Fort Smith</td>\n",
       "      <td>AR</td>\n",
       "      <td>72903</td>\n",
       "      <td>US</td>\n",
       "      <td>E</td>\n",
       "      <td>None</td>\n",
       "      <td>...</td>\n",
       "      <td>None</td>\n",
       "      <td>None</td>\n",
       "      <td>None</td>\n",
       "      <td>None</td>\n",
       "      <td>35.362213</td>\n",
       "      <td>-94.375338</td>\n",
       "      <td>1997-01-01</td>\n",
       "      <td>2023-02-13</td>\n",
       "      <td>UTILITY</td>\n",
       "      <td>False</td>\n",
       "    </tr>\n",
       "    <tr>\n",
       "      <th>4</th>\n",
       "      <td>81</td>\n",
       "      <td>CNG</td>\n",
       "      <td>Clean Energy - Logan International Airport</td>\n",
       "      <td>1000 Cottage St Ext</td>\n",
       "      <td>East Boston</td>\n",
       "      <td>MA</td>\n",
       "      <td>02128</td>\n",
       "      <td>US</td>\n",
       "      <td>E</td>\n",
       "      <td>None</td>\n",
       "      <td>...</td>\n",
       "      <td>None</td>\n",
       "      <td>None</td>\n",
       "      <td>None</td>\n",
       "      <td>None</td>\n",
       "      <td>42.374706</td>\n",
       "      <td>-71.026549</td>\n",
       "      <td>1996-11-15</td>\n",
       "      <td>2022-12-13</td>\n",
       "      <td>AIRPORT</td>\n",
       "      <td>False</td>\n",
       "    </tr>\n",
       "  </tbody>\n",
       "</table>\n",
       "<p>5 rows × 27 columns</p>\n",
       "</div>"
      ],
      "text/plain": [
       "   id fuel_type_code                                  station_name  \\\n",
       "0  17            CNG          Spire - Montgomery Operations Center   \n",
       "1  45            CNG  Metropolitan Atlanta Rapid Transit Authority   \n",
       "2  64            CNG                         United Parcel Service   \n",
       "3  73            CNG                    Arkansas Oklahoma Gas Corp   \n",
       "4  81            CNG    Clean Energy - Logan International Airport   \n",
       "\n",
       "         street_address         city state    zip country status_code  \\\n",
       "0      2951 Chestnut St   Montgomery    AL  36107      US           E   \n",
       "1   2424 Piedmont Rd NE      Atlanta    GA  30324      US           E   \n",
       "2  270 Marvin Miller Dr      Atlanta    GA  30336      US           E   \n",
       "3     2100 S Waldron Rd   Fort Smith    AR  72903      US           E   \n",
       "4   1000 Cottage St Ext  East Boston    MA  02128      US           E   \n",
       "\n",
       "  expected_date  ... ev_connector_types ev_network ev_pricing  \\\n",
       "0          None  ...               None       None       None   \n",
       "1          None  ...               None       None       None   \n",
       "2          None  ...               None       None       None   \n",
       "3          None  ...               None       None       None   \n",
       "4          None  ...               None       None       None   \n",
       "\n",
       "   ev_renewable_source   latitude  longitude   open_date date_last_confirmed  \\\n",
       "0                 None  32.367916 -86.267021  2010-12-01          2023-04-06   \n",
       "1                 None  33.821911 -84.367461  1996-12-15          2023-01-10   \n",
       "2                 None  33.760256 -84.543822  1997-01-01          2022-06-14   \n",
       "3                 None  35.362213 -94.375338  1997-01-01          2023-02-13   \n",
       "4                 None  42.374706 -71.026549  1996-11-15          2022-12-13   \n",
       "\n",
       "        facility_type restricted_access  \n",
       "0  STANDALONE_STATION              None  \n",
       "1        FLEET_GARAGE              None  \n",
       "2  STANDALONE_STATION              None  \n",
       "3             UTILITY             False  \n",
       "4             AIRPORT             False  \n",
       "\n",
       "[5 rows x 27 columns]"
      ]
     },
     "execution_count": 12,
     "metadata": {},
     "output_type": "execute_result"
    }
   ],
   "source": [
    "df.head()"
   ]
  },
  {
   "cell_type": "code",
   "execution_count": 13,
   "id": "da38dbfe",
   "metadata": {},
   "outputs": [
    {
     "name": "stdout",
     "output_type": "stream",
     "text": [
      "DataFrame exported to fuel_stations.csv\n"
     ]
    }
   ],
   "source": [
    "# Export DataFrame to CSV\n",
    "csv_filename = \"fuel_stations.csv\"\n",
    "df.to_csv(csv_filename, index=False)\n",
    "print(f\"DataFrame exported to {csv_filename}\")"
   ]
  },
  {
   "cell_type": "code",
   "execution_count": 14,
   "id": "0b3d6bf6",
   "metadata": {},
   "outputs": [
    {
     "name": "stdout",
     "output_type": "stream",
     "text": [
      "DataFrame exported to fuel_stations.json\n"
     ]
    }
   ],
   "source": [
    "# Export DataFrame to JSON\n",
    "json_filename = \"fuel_stations.json\"\n",
    "df.to_json(json_filename, orient=\"records\")\n",
    "print(f\"DataFrame exported to {json_filename}\")"
   ]
  },
  {
   "cell_type": "markdown",
   "id": "064ef857",
   "metadata": {},
   "source": [
    "## Cleaning/Preparing Data for Analysis"
   ]
  },
  {
   "cell_type": "markdown",
   "id": "664e3c1f",
   "metadata": {},
   "source": [
    "The exported CSV file above was imported into MongoDB. This section will focus on cleaning the data and preparing it for analysis."
   ]
  },
  {
   "cell_type": "code",
   "execution_count": 15,
   "id": "3ecdd008",
   "metadata": {},
   "outputs": [],
   "source": [
    "# Import dependencies\n",
    "from pymongo import MongoClient\n",
    "from pprint import pprint"
   ]
  },
  {
   "cell_type": "code",
   "execution_count": 16,
   "id": "59390c4a",
   "metadata": {},
   "outputs": [],
   "source": [
    "# Create an instance of MongoClient\n",
    "mongo = MongoClient(port=27017)"
   ]
  },
  {
   "cell_type": "code",
   "execution_count": 17,
   "id": "7f9ececa",
   "metadata": {},
   "outputs": [
    {
     "name": "stdout",
     "output_type": "stream",
     "text": [
      "['admin', 'alt_fuel', 'classDB', 'config', 'gardenDB', 'local', 'met', 'test', 'travel_db', 'uk_food']\n"
     ]
    }
   ],
   "source": [
    "# confirm that our new database \"alt_fuel\" was created\n",
    "print(mongo.list_database_names())"
   ]
  },
  {
   "cell_type": "code",
   "execution_count": 20,
   "id": "71e373c1",
   "metadata": {},
   "outputs": [],
   "source": [
    "# assign the alt_fuel database to a variable name\n",
    "db = mongo['alt_fuel']"
   ]
  },
  {
   "cell_type": "code",
   "execution_count": 21,
   "id": "ef1b89ed",
   "metadata": {},
   "outputs": [
    {
     "name": "stdout",
     "output_type": "stream",
     "text": [
      "['fuel_stations']\n"
     ]
    }
   ],
   "source": [
    "# review the collections in our new database\n",
    "print(db.list_collection_names())"
   ]
  },
  {
   "cell_type": "code",
   "execution_count": 23,
   "id": "18ab463c",
   "metadata": {},
   "outputs": [
    {
     "name": "stdout",
     "output_type": "stream",
     "text": [
      "{'_id': ObjectId('64ce71f5e4c0a798bc65120a'),\n",
      " 'access_code': 'public',\n",
      " 'city': 'Fort Smith',\n",
      " 'country': 'US',\n",
      " 'date_last_confirmed': '2023-02-13',\n",
      " 'ev_connector_types': '',\n",
      " 'ev_dc_fast_num': '',\n",
      " 'ev_level1_evse_num': '',\n",
      " 'ev_level2_evse_num': '',\n",
      " 'ev_network': '',\n",
      " 'ev_other_evse': '',\n",
      " 'ev_pricing': '',\n",
      " 'ev_renewable_source': '',\n",
      " 'expected_date': '',\n",
      " 'facility_type': 'UTILITY',\n",
      " 'federal_agency': '',\n",
      " 'fuel_type_code': 'CNG',\n",
      " 'id': 73,\n",
      " 'latitude': 35.362213,\n",
      " 'longitude': -94.375338,\n",
      " 'open_date': '1997-01-01',\n",
      " 'owner_type_code': 'T',\n",
      " 'restricted_access': 'False',\n",
      " 'state': 'AR',\n",
      " 'station_name': 'Arkansas Oklahoma Gas Corp',\n",
      " 'status_code': 'E',\n",
      " 'street_address': '2100 S Waldron Rd',\n",
      " 'zip': 72903}\n"
     ]
    }
   ],
   "source": [
    "# review a document in our establishment collection.\n",
    "pprint(db.fuel_stations.find_one())"
   ]
  },
  {
   "cell_type": "code",
   "execution_count": 24,
   "id": "11c9f11b",
   "metadata": {},
   "outputs": [],
   "source": [
    "# assign the collection to a variable\n",
    "stations = db['fuel_stations']"
   ]
  },
  {
   "cell_type": "code",
   "execution_count": 31,
   "id": "24658b9c",
   "metadata": {},
   "outputs": [
    {
     "name": "stdout",
     "output_type": "stream",
     "text": [
      "{'_id': ObjectId('64ce71f5e4c0a798bc65120a'),\n",
      " 'access_code': 'public',\n",
      " 'city': 'Fort Smith',\n",
      " 'country': 'US',\n",
      " 'date_last_confirmed': '2023-02-13',\n",
      " 'ev_connector_types': '',\n",
      " 'ev_dc_fast_num': '',\n",
      " 'ev_level1_evse_num': '',\n",
      " 'ev_level2_evse_num': '',\n",
      " 'ev_network': '',\n",
      " 'ev_other_evse': '',\n",
      " 'ev_pricing': '',\n",
      " 'ev_renewable_source': '',\n",
      " 'expected_date': '',\n",
      " 'facility_type': 'UTILITY',\n",
      " 'federal_agency': '',\n",
      " 'fuel_type_code': 'CNG',\n",
      " 'id': 73,\n",
      " 'latitude': 35.362213,\n",
      " 'longitude': -94.375338,\n",
      " 'open_date': '1997-01-01',\n",
      " 'owner_type_code': 'T',\n",
      " 'restricted_access': 'False',\n",
      " 'state': 'AR',\n",
      " 'station_name': 'Arkansas Oklahoma Gas Corp',\n",
      " 'status_code': 'E',\n",
      " 'street_address': '2100 S Waldron Rd'}\n"
     ]
    }
   ],
   "source": [
    "# drop the zip code field - won't be needed for our analysis\n",
    "stations.update_many(\n",
    "   { },\n",
    "   { \"$unset\": { \"zip\": \"\" } }\n",
    ")\n",
    "\n",
    "# review a document in our establishment collection to see if the \"zip\" field was dropped\n",
    "pprint(stations.find_one())"
   ]
  },
  {
   "cell_type": "code",
   "execution_count": 36,
   "id": "301a400a",
   "metadata": {},
   "outputs": [
    {
     "data": {
      "text/plain": [
       "73834"
      ]
     },
     "execution_count": 36,
     "metadata": {},
     "output_type": "execute_result"
    }
   ],
   "source": [
    "# Delete all documents where 'state' is not a US state such as PR, BC, QC, & ON\n",
    "stations.delete_many({\"state\" : \"PR\"})\n",
    "stations.delete_many({\"state\" : \"BC\"})\n",
    "stations.delete_many({\"state\" : \"QC\"})\n",
    "stations.delete_many({\"state\" : \"ON\"})\n",
    "\n",
    "# review a document in our establishment collection to see if the \"zip\" field was dropped\n",
    "stations.count_documents({})"
   ]
  },
  {
   "cell_type": "markdown",
   "id": "d5671434",
   "metadata": {},
   "source": [
    "## Part 2: Update the Database"
   ]
  },
  {
   "cell_type": "markdown",
   "id": "314bd884",
   "metadata": {},
   "source": [
    "1. An exciting new halal restaurant just opened in Greenwich, but hasn't been rated yet. The magazine has asked you to include it in your analysis. Add the following restaurant \"Penang Flavours\" to the database."
   ]
  },
  {
   "cell_type": "code",
   "execution_count": null,
   "id": "c2da7648",
   "metadata": {},
   "outputs": [],
   "source": [
    "# Create a dictionary for the new restaurant data\n",
    "new_restaurant = {\n",
    "    \"BusinessName\":\"Penang Flavours\",\n",
    "    \"BusinessType\":\"Restaurant/Cafe/Canteen\",\n",
    "    \"BusinessTypeID\":\"\",\n",
    "    \"AddressLine1\":\"Penang Flavours\",\n",
    "    \"AddressLine2\":\"146A Plumstead Rd\",\n",
    "    \"AddressLine3\":\"London\",\n",
    "    \"AddressLine4\":\"\",\n",
    "    \"PostCode\":\"SE18 7DY\",\n",
    "    \"Phone\":\"\",\n",
    "    \"LocalAuthorityCode\":\"511\",\n",
    "    \"LocalAuthorityName\":\"Greenwich\",\n",
    "    \"LocalAuthorityWebSite\":\"http://www.royalgreenwich.gov.uk\",\n",
    "    \"LocalAuthorityEmailAddress\":\"health@royalgreenwich.gov.uk\",\n",
    "    \"scores\":{\n",
    "        \"Hygiene\":\"\",\n",
    "        \"Structural\":\"\",\n",
    "        \"ConfidenceInManagement\":\"\"\n",
    "    },\n",
    "    \"SchemeType\":\"FHRS\",\n",
    "    \"geocode\":{\n",
    "        \"longitude\":\"0.08384000\",\n",
    "        \"latitude\":\"51.49014200\"\n",
    "    },\n",
    "    \"RightToReply\":\"\",\n",
    "    \"Distance\":4623.9723280747176,\n",
    "    \"NewRatingPending\":True\n",
    "}"
   ]
  },
  {
   "cell_type": "code",
   "execution_count": null,
   "id": "a6e5cece",
   "metadata": {},
   "outputs": [],
   "source": [
    "# Insert the new restaurant into the collection\n",
    "establishments.insert_one(new_restaurant)"
   ]
  },
  {
   "cell_type": "code",
   "execution_count": null,
   "id": "63bb10f9",
   "metadata": {},
   "outputs": [],
   "source": [
    "# Check that the new restaurant was inserted\n",
    "establishments.find_one({\"BusinessName\" : \"Penang Flavours\"})\n",
    "\n",
    "###or use this one below\n",
    "#Filter results by name\n",
    "query = {'BusinessName': 'Penang Flavours'}\n",
    "#results = establishments.find(query)\n",
    "#for result in results:\n",
    "    #pprint(result)\n",
    "establishments.find_one(query)"
   ]
  },
  {
   "cell_type": "markdown",
   "id": "0ef4395a",
   "metadata": {},
   "source": [
    "2. Find the BusinessTypeID for \"Restaurant/Cafe/Canteen\" and return only the `BusinessTypeID` and `BusinessType` fields."
   ]
  },
  {
   "cell_type": "code",
   "execution_count": null,
   "id": "93c63829",
   "metadata": {},
   "outputs": [],
   "source": [
    "# Find the BusinessTypeID for \"Restaurant/Cafe/Canteen\" and return only the BusinessTypeID and BusinessType fields\n",
    "query = {'BusinessType': \"Restaurant/Cafe/Canteen\"}\n",
    "fields = {\"BusinessTypeID\": 1, \"BusinessType\" : 1}\n",
    "results = establishments.find(query,fields)\n",
    "for result in results:\n",
    "    pprint(result)"
   ]
  },
  {
   "cell_type": "code",
   "execution_count": null,
   "id": "93d63b44",
   "metadata": {},
   "outputs": [],
   "source": [
    "# Find the BusinessTypeID for \"Restaurant/Cafe/Canteen\" and return only the BusinessTypeID and BusinessType fields\n",
    "#query = {'BusinessType': \"Restaurant/Cafe/Canteen\"}\n",
    "#fields = [\"BusinessTypeID\", \"BusinessType\"]\n",
    "#establishments.find_one(query,fields)"
   ]
  },
  {
   "cell_type": "markdown",
   "id": "4e570caf",
   "metadata": {},
   "source": [
    "3. Update the new restaurant with the `BusinessTypeID` you found."
   ]
  },
  {
   "cell_type": "code",
   "execution_count": null,
   "id": "7f599f3d",
   "metadata": {},
   "outputs": [],
   "source": [
    "# Update the new restaurant with the correct BusinessTypeID\n",
    "establishments.update_one(new_restaurant,{\"$set\": {\"BusinessTypeID\": 1}})"
   ]
  },
  {
   "cell_type": "code",
   "execution_count": null,
   "id": "a6ad16f7",
   "metadata": {},
   "outputs": [],
   "source": [
    "# Confirm that the new restaurant was updated\n",
    "query = {\"BusinessName\" : \"Penang Flavours\"}\n",
    "establishments.find_one(query)"
   ]
  },
  {
   "cell_type": "markdown",
   "id": "67281254",
   "metadata": {},
   "source": [
    "4. The magazine is not interested in any establishments in Dover, so check how many documents contain the Dover Local Authority. Then, remove any establishments within the Dover Local Authority from the database, and check the number of documents to ensure they were deleted."
   ]
  },
  {
   "cell_type": "code",
   "execution_count": null,
   "id": "768474a6",
   "metadata": {},
   "outputs": [],
   "source": [
    "# Find how many documents have LocalAuthorityName as \"Dover\"\n",
    "establishments.count_documents({\"LocalAuthorityName\": \"Dover\"})"
   ]
  },
  {
   "cell_type": "code",
   "execution_count": null,
   "id": "a11d5f1b",
   "metadata": {},
   "outputs": [],
   "source": [
    "# Delete all documents where LocalAuthorityName is \"Dover\"\n",
    "establishments.delete_many({\"LocalAuthorityName\" : \"Dover\"})"
   ]
  },
  {
   "cell_type": "code",
   "execution_count": null,
   "id": "2a51aba0",
   "metadata": {},
   "outputs": [],
   "source": [
    "# Check if any remaining documents include Dover\n",
    "pprint(establishments.count_documents({\"LocalAuhtorityName\" : \"Dover\"}))"
   ]
  },
  {
   "cell_type": "code",
   "execution_count": null,
   "id": "8c356f7b",
   "metadata": {},
   "outputs": [],
   "source": [
    "# Check that other documents remain with 'find_one'\n",
    "establishments.find_one({})"
   ]
  },
  {
   "cell_type": "markdown",
   "id": "e9f1662d",
   "metadata": {},
   "source": [
    "5. Some of the number values are stored as strings, when they should be stored as numbers."
   ]
  },
  {
   "cell_type": "markdown",
   "id": "c46df2df",
   "metadata": {},
   "source": [
    "Use `update_many` to convert `latitude` and `longitude` to decimal numbers."
   ]
  },
  {
   "cell_type": "code",
   "execution_count": null,
   "id": "fd4112ce",
   "metadata": {},
   "outputs": [],
   "source": [
    "# Change the data type from String to Decimal for longitude and latitude\n",
    "establishments.update_many({}, [{\"$set\" : {\"geocode.longitude\" : {\"$toDouble\" : \"$geocode.longitude\"},\n",
    "                                         \"geocode.latitude\" : {\"$toDouble\" : \"$geocode.latitude\"}}}])"
   ]
  },
  {
   "cell_type": "markdown",
   "id": "142e319c",
   "metadata": {},
   "source": [
    "Use `update_many` to convert `RatingValue` to integer numbers."
   ]
  },
  {
   "cell_type": "code",
   "execution_count": null,
   "id": "04430a5b",
   "metadata": {},
   "outputs": [],
   "source": [
    "# Set non 1-5 Rating Values to Null\n",
    "non_ratings = [\"AwaitingInspection\", \"Awaiting Inspection\", \"AwaitingPublication\", \"Pass\", \"Exempt\"]\n",
    "establishments.update_many({\"RatingValue\": {\"$in\": non_ratings}}, [ {'$set':{ \"RatingValue\" : None}}])"
   ]
  },
  {
   "cell_type": "code",
   "execution_count": null,
   "id": "92524ccc",
   "metadata": {},
   "outputs": [],
   "source": [
    "# Change the data type from String to Integer for RatingValue\n",
    "#establishments.update_many({}, [{\"$set\" : {\"RatingValue\" : {\"$toInt\" : \"RatingValue\"}}}])\n",
    "establishments.update_many({}, [{\"$set\" : {\"RatingValue\" : {\"$toInt\" : \"$RatingValue\"}}}])\n",
    "#establishments.update_many({\"RatingValue\": {\"$in\" : \"RatingValue\"}}, [{\"$set\" : {\"$toInt\" : \"RatingValue\"}}])\n",
    "#establishments.update_many({\"RatingValue\": [{'$set':{\"RatingValue\" : {\"$toInt\" : \"RatingValue\"}}}])"
   ]
  },
  {
   "cell_type": "code",
   "execution_count": null,
   "id": "0deacaf9",
   "metadata": {},
   "outputs": [],
   "source": [
    "# Check that the coordinates and rating value are now numbers\n",
    "# Change the data type from String to Double for CO.PERCENT_COMPLETE \n",
    "# and from String to Int for CO.DAILY_AQI_VALUE\n",
    "# in the ohio_daily_records collection\n",
    "query = {}\n",
    "fields = {\"geocode.longitude\" : 1, \"geocode.latitude\" : 1}\n",
    "list(establishments.find(query,fields))[0:5]"
   ]
  }
 ],
 "metadata": {
  "kernelspec": {
   "display_name": "Python 3 (ipykernel)",
   "language": "python",
   "name": "python3"
  },
  "language_info": {
   "codemirror_mode": {
    "name": "ipython",
    "version": 3
   },
   "file_extension": ".py",
   "mimetype": "text/x-python",
   "name": "python",
   "nbconvert_exporter": "python",
   "pygments_lexer": "ipython3",
   "version": "3.10.11"
  }
 },
 "nbformat": 4,
 "nbformat_minor": 5
}
